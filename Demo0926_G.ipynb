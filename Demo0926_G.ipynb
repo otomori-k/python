{
 "cells": [
  {
   "cell_type": "markdown",
   "metadata": {},
   "source": [
    "# Ⅱ. タイタニック号沈没における生存可否"
   ]
  },
  {
   "cell_type": "markdown",
   "metadata": {},
   "source": [
    "## 1. モジュール読込"
   ]
  },
  {
   "cell_type": "code",
   "execution_count": null,
   "metadata": {
    "collapsed": true
   },
   "outputs": [],
   "source": [
    "import numpy as np\n",
    "import pandas as pd\n",
    "from pandas import Series,DataFrame\n",
    "\n",
    "import math\n",
    "\n",
    "#プロット用\n",
    "import matplotlib.pyplot as plt\n",
    "import seaborn as sns\n",
    "sns.set_style('whitegrid')\n",
    "\n",
    "# matplotlibの表示設定\n",
    "%matplotlib inline\n",
    "\n",
    "# 機械学習用\n",
    "from sklearn.linear_model import LogisticRegression\n",
    "from sklearn.cross_validation import train_test_split\n",
    "\n",
    "# 性能評価用\n",
    "from sklearn import metrics\n",
    "\n",
    "import statsmodels.api as sm"
   ]
  },
  {
   "cell_type": "markdown",
   "metadata": {},
   "source": [
    "## 2. データ整形"
   ]
  },
  {
   "cell_type": "markdown",
   "metadata": {},
   "source": [
    "### データの一部を表示"
   ]
  },
  {
   "cell_type": "code",
   "execution_count": null,
   "metadata": {
    "collapsed": false,
    "scrolled": false
   },
   "outputs": [],
   "source": [
    "train_df = pd.read_csv('C:/workspace/python/logistic/titanic/train.csv',engine='python')\n",
    "test_df = pd.read_csv('C:/workspace/python/logistic/titanic/test.csv',engine='python')\n",
    "\n",
    "train_df.head(3)"
   ]
  },
  {
   "cell_type": "code",
   "execution_count": null,
   "metadata": {
    "collapsed": false
   },
   "outputs": [],
   "source": [
    "#利用しない変数を削除\n",
    "dropped_train_df = train_df.drop(['Name','SibSp','Parch','Ticket','Fare','Cabin','Embarked'],axis=1)\n",
    "dropped_test_df = test_df.drop(['Name','SibSp','Parch','Ticket','Fare','Cabin','Embarked'],axis=1)\n",
    "\n",
    "dropped_train_df.head(3)"
   ]
  },
  {
   "cell_type": "code",
   "execution_count": null,
   "metadata": {
    "collapsed": false,
    "scrolled": true
   },
   "outputs": [],
   "source": [
    "# データの特性（個数、平均値、標準偏差、最大値、最小値、四分位数など）を表示\n",
    "dropped_train_df.describe()"
   ]
  },
  {
   "cell_type": "code",
   "execution_count": null,
   "metadata": {
    "collapsed": false,
    "scrolled": true
   },
   "outputs": [],
   "source": [
    "# 年齢の欠損値を男女別の平均年齢で補間\n",
    "age_train_mean = dropped_train_df.groupby('Sex').Age.mean()\n",
    "\n",
    "def fage(x):\n",
    "    if x.Sex == 'male':\n",
    "        return round(age_train_mean['male'])\n",
    "    if x.Sex == 'female':\n",
    "        return round(age_train_mean['female'])\n",
    " \n",
    "dropped_train_df.Age.fillna(train_df[train_df.Age.isnull()].apply(fage,axis=1),inplace=True)\n",
    "\n",
    "age_test_mean = dropped_test_df.groupby('Sex').Age.mean()\n",
    " \n",
    "def fage(x):\n",
    "    if x.Sex == 'male':\n",
    "        return round(age_test_mean['male'])\n",
    "    if x.Sex == 'female':\n",
    "        return round(age_test_mean['female'])\n",
    " \n",
    "dropped_test_df.Age.fillna(test_df[test_df.Age.isnull()].apply(fage,axis=1),inplace=True)\n",
    "\n",
    "dropped_train_df.head(3)"
   ]
  },
  {
   "cell_type": "code",
   "execution_count": null,
   "metadata": {
    "collapsed": true
   },
   "outputs": [],
   "source": [
    "### クロス集計"
   ]
  },
  {
   "cell_type": "code",
   "execution_count": null,
   "metadata": {
    "collapsed": false,
    "scrolled": false
   },
   "outputs": [],
   "source": [
    "# 性別のクロス集計\n",
    "sex_ct = pd.crosstab(dropped_train_df['Sex'], dropped_train_df['Survived'])\n",
    "sex_ct"
   ]
  },
  {
   "cell_type": "code",
   "execution_count": null,
   "metadata": {
    "collapsed": false,
    "scrolled": false
   },
   "outputs": [],
   "source": [
    "# 階級のクロス集計\n",
    "pclass_ct = pd.crosstab(dropped_train_df['Pclass'], dropped_train_df['Survived'])\n",
    "pclass_ct"
   ]
  },
  {
   "cell_type": "markdown",
   "metadata": {},
   "source": [
    "### ダミー変数に変換"
   ]
  },
  {
   "cell_type": "code",
   "execution_count": null,
   "metadata": {
    "collapsed": false,
    "scrolled": true
   },
   "outputs": [],
   "source": [
    "# ダミー変数\n",
    "# 性別のmale/femaleを0/1に変換し、要素を追加\n",
    "dropped_train_df['Female'] = dropped_train_df['Sex'].map( {'male': 0, 'female': 1} ).astype(int)\n",
    "dropped_test_df['Female'] = dropped_test_df['Sex'].map( {'male': 0, 'female': 1} ).astype(int)\n",
    "\n",
    "dropped_train_df.head(3)"
   ]
  },
  {
   "cell_type": "code",
   "execution_count": null,
   "metadata": {
    "collapsed": false
   },
   "outputs": [],
   "source": [
    "#ダミー変数\n",
    "pclass_train_df  = pd.get_dummies(dropped_train_df['Pclass'],prefix='Class')\n",
    "pclass_test_df  = pd.get_dummies(dropped_test_df['Pclass'],prefix='Class')\n",
    "\n",
    "pclass_train_df.head(3)"
   ]
  },
  {
   "cell_type": "code",
   "execution_count": null,
   "metadata": {
    "collapsed": false
   },
   "outputs": [],
   "source": [
    "# 多重共線性\n",
    "pclass_train_df = pclass_train_df.drop(['Class_3'], axis=1)\n",
    "pclass_test_df = pclass_test_df.drop(['Class_3'], axis=1)\n",
    "\n",
    "#Class_1,Class_2カラムを追加\n",
    "dropped_train_df = dropped_train_df.join(pclass_train_df)\n",
    "dropped_test_df = dropped_test_df.join(pclass_test_df)\n",
    "\n",
    "# 不必要な列と目的変数を削除\n",
    "X = dropped_train_df.drop(['PassengerId','Survived','Pclass','Sex'],axis=1)\n",
    "\n",
    "X.head(3)"
   ]
  },
  {
   "cell_type": "code",
   "execution_count": null,
   "metadata": {
    "collapsed": false,
    "scrolled": true
   },
   "outputs": [],
   "source": [
    "# Yに目的変数を格納\n",
    "Y = dropped_train_df.Survived\n",
    "\n",
    "Y.head(3)"
   ]
  },
  {
   "cell_type": "markdown",
   "metadata": {},
   "source": [
    "## 3. モデル作成"
   ]
  },
  {
   "cell_type": "code",
   "execution_count": null,
   "metadata": {
    "collapsed": false
   },
   "outputs": [],
   "source": [
    "# インスタンス作成\n",
    "log_model = LogisticRegression()\n",
    "\n",
    "# データを代入して学習\n",
    "log_model.fit(X,Y)"
   ]
  },
  {
   "cell_type": "markdown",
   "metadata": {},
   "source": [
    "## 4. 評価"
   ]
  },
  {
   "cell_type": "code",
   "execution_count": null,
   "metadata": {
    "collapsed": false
   },
   "outputs": [],
   "source": [
    "# モデルの精度を表示\n",
    "log_model.score(X,Y)"
   ]
  },
  {
   "cell_type": "markdown",
   "metadata": {},
   "source": [
    "## 5. 結果"
   ]
  },
  {
   "cell_type": "code",
   "execution_count": null,
   "metadata": {
    "collapsed": false,
    "scrolled": true
   },
   "outputs": [],
   "source": [
    "# 変数名と係数を格納\n",
    "coeff_df = DataFrame([X.columns, log_model.coef_[0]]).T\n",
    "coeff_df"
   ]
  },
  {
   "cell_type": "markdown",
   "metadata": {},
   "source": [
    "## 6. おまけ"
   ]
  },
  {
   "cell_type": "code",
   "execution_count": null,
   "metadata": {
    "collapsed": false,
    "scrolled": true
   },
   "outputs": [],
   "source": [
    "dropped_test_df.head(3)"
   ]
  },
  {
   "cell_type": "code",
   "execution_count": null,
   "metadata": {
    "collapsed": false,
    "scrolled": true
   },
   "outputs": [],
   "source": [
    "# 不必要な列と目的変数を削除\n",
    "X = dropped_test_df.drop(['PassengerId','Pclass','Sex'],axis=1)\n",
    "\n",
    "# テスト用データで予測\n",
    "result = log_model.predict(X)\n",
    "\n",
    "result"
   ]
  },
  {
   "cell_type": "code",
   "execution_count": null,
   "metadata": {
    "collapsed": false
   },
   "outputs": [],
   "source": [
    "result_df = pd.DataFrame({'PassengerId': test_df['PassengerId'], 'Survived':np.array(result)})\n",
    "result_df.head()"
   ]
  }
 ],
 "metadata": {
  "anaconda-cloud": {},
  "kernelspec": {
   "display_name": "Python [default]",
   "language": "python",
   "name": "python3"
  },
  "language_info": {
   "codemirror_mode": {
    "name": "ipython",
    "version": 3
   },
   "file_extension": ".py",
   "mimetype": "text/x-python",
   "name": "python",
   "nbconvert_exporter": "python",
   "pygments_lexer": "ipython3",
   "version": "3.5.2"
  }
 },
 "nbformat": 4,
 "nbformat_minor": 1
}
