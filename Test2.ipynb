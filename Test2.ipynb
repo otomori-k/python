{
 "cells": [
  {
   "cell_type": "code",
   "execution_count": 1,
   "metadata": {
    "collapsed": false
   },
   "outputs": [],
   "source": [
    "# SQLコマンドが使える\n",
    "import pandas as pd\n",
    "# 行列計算\n",
    "import numpy as np\n",
    "from pandas import DataFrame\n",
    "# 機械学習のモデルや前処理\n",
    "from sklearn.linear_model import LogisticRegression\n",
    "from sklearn.metrics import accuracy_score\n",
    "# データの可視化\n",
    "%matplotlib inline"
   ]
  },
  {
   "cell_type": "code",
   "execution_count": 2,
   "metadata": {
    "collapsed": true
   },
   "outputs": [],
   "source": [
    "#ファイルの読み込み\n",
    "train_df = pd.read_csv('C:/workspace/python/logistic/titanic/train.csv',engine='python')\n",
    "test_df = pd.read_csv('C:/workspace/python/logistic/titanic/test.csv',engine='python')\n"
   ]
  },
  {
   "cell_type": "code",
   "execution_count": 3,
   "metadata": {
    "collapsed": false,
    "scrolled": true
   },
   "outputs": [],
   "source": [
    "#利用しない変数は削除します\n",
    "train_df = train_df.drop(['Name','SibSp','Parch','Ticket','Fare','Cabin','Embarked'],axis=1)\n",
    "test_df = test_df.drop(['Name','SibSp','Parch','Ticket','Fare','Cabin','Embarked'],axis=1)\n"
   ]
  },
  {
   "cell_type": "code",
   "execution_count": 4,
   "metadata": {
    "collapsed": true
   },
   "outputs": [],
   "source": [
    "#年齢の欠損値を男女の平均年齢で補間\n",
    "age_train_mean = train_df.groupby('Sex').Age.mean()\n",
    " \n",
    "def fage(x):\n",
    "    if x.Sex == 'male':\n",
    "        return round(age_train_mean['male'])\n",
    "    if x.Sex == 'female':\n",
    "        return round(age_train_mean['female'])\n",
    " \n",
    "train_df.Age.fillna(train_df[train_df.Age.isnull()].apply(fage,axis=1),inplace=True)\n",
    "\n",
    "age_test_mean = test_df.groupby('Sex').Age.mean()\n",
    " \n",
    "def fage(x):\n",
    "    if x.Sex == 'male':\n",
    "        return round(age_test_mean['male'])\n",
    "    if x.Sex == 'female':\n",
    "        return round(age_test_mean['female'])\n",
    " \n",
    "test_df.Age.fillna(test_df[test_df.Age.isnull()].apply(fage,axis=1),inplace=True)\n"
   ]
  },
  {
   "cell_type": "code",
   "execution_count": 5,
   "metadata": {
    "collapsed": false
   },
   "outputs": [
    {
     "name": "stdout",
     "output_type": "stream",
     "text": [
      "Survived    0    1\n",
      "Sex               \n",
      "female     81  233\n",
      "male      468  109\n"
     ]
    }
   ],
   "source": [
    "#クロス集計\n",
    "sex_ct = pd.crosstab(train_df['Sex'], train_df['Survived'])\n",
    "print(sex_ct)\n"
   ]
  },
  {
   "cell_type": "code",
   "execution_count": 6,
   "metadata": {
    "collapsed": true
   },
   "outputs": [],
   "source": [
    "#Femaleカラムを追加し、Sex要素のmale/femaleを1/0に変換して、要素として追加する\n",
    "train_df['Female'] = train_df['Sex'].map( {'male': 0, 'female': 1} ).astype(int)\n",
    "test_df['Female'] = test_df['Sex'].map( {'male': 0, 'female': 1} ).astype(int)\n"
   ]
  },
  {
   "cell_type": "code",
   "execution_count": 7,
   "metadata": {
    "collapsed": false
   },
   "outputs": [
    {
     "data": {
      "text/html": [
       "<div>\n",
       "<table border=\"1\" class=\"dataframe\">\n",
       "  <thead>\n",
       "    <tr style=\"text-align: right;\">\n",
       "      <th>Survived</th>\n",
       "      <th>0</th>\n",
       "      <th>1</th>\n",
       "    </tr>\n",
       "    <tr>\n",
       "      <th>Pclass</th>\n",
       "      <th></th>\n",
       "      <th></th>\n",
       "    </tr>\n",
       "  </thead>\n",
       "  <tbody>\n",
       "    <tr>\n",
       "      <th>1</th>\n",
       "      <td>80</td>\n",
       "      <td>136</td>\n",
       "    </tr>\n",
       "    <tr>\n",
       "      <th>2</th>\n",
       "      <td>97</td>\n",
       "      <td>87</td>\n",
       "    </tr>\n",
       "    <tr>\n",
       "      <th>3</th>\n",
       "      <td>372</td>\n",
       "      <td>119</td>\n",
       "    </tr>\n",
       "  </tbody>\n",
       "</table>\n",
       "</div>"
      ],
      "text/plain": [
       "Survived    0    1\n",
       "Pclass            \n",
       "1          80  136\n",
       "2          97   87\n",
       "3         372  119"
      ]
     },
     "execution_count": 7,
     "metadata": {},
     "output_type": "execute_result"
    }
   ],
   "source": [
    "#クロス集計\n",
    "pclass_ct = pd.crosstab(train_df['Pclass'], train_df['Survived'])\n",
    "pclass_ct\n"
   ]
  },
  {
   "cell_type": "code",
   "execution_count": 8,
   "metadata": {
    "collapsed": true
   },
   "outputs": [],
   "source": [
    "#Pclassをダミー変数で分ける\n",
    "pclass_train_df  = pd.get_dummies(train_df['Pclass'],prefix='Class')\n",
    "pclass_test_df  = pd.get_dummies(test_df['Pclass'],prefix='Class')\n"
   ]
  },
  {
   "cell_type": "code",
   "execution_count": 9,
   "metadata": {
    "collapsed": false
   },
   "outputs": [],
   "source": [
    "#Class_3を削除\n",
    "pclass_train_df = pclass_train_df.drop(['Class_3'], axis=1)\n",
    "pclass_test_df = pclass_test_df.drop(['Class_3'], axis=1)\n",
    " \n",
    "#Class_1,Class_2カラムを追加\n",
    "train_df = train_df.join(pclass_train_df)\n",
    "test_df = test_df.join(pclass_test_df)\n",
    "\n",
    "X = train_df.drop(['PassengerId','Survived','Pclass','Sex'],axis=1)\n",
    "y = train_df.Survived\n"
   ]
  },
  {
   "cell_type": "code",
   "execution_count": 10,
   "metadata": {
    "collapsed": false
   },
   "outputs": [
    {
     "name": "stdout",
     "output_type": "stream",
     "text": [
      "0.801346801347\n"
     ]
    }
   ],
   "source": [
    "#モデルの生成\n",
    "clf = LogisticRegression()\n",
    " \n",
    "#学習\n",
    "clf.fit(X, y)\n",
    "\n",
    "#学習したモデルの精度\n",
    "clf.score(X,y)\n",
    "\n",
    "print(clf.score(X,y))\n"
   ]
  },
  {
   "cell_type": "code",
   "execution_count": 11,
   "metadata": {
    "collapsed": false
   },
   "outputs": [],
   "source": [
    "#変数名とその係数を格納するデータフレーム\n",
    "coeff_df = DataFrame([X.columns, clf.coef_[0]]).T\n",
    "coeff_df\n",
    "#テストデータから生存者を予測\n",
    "test_df = test_df.drop(['Sex','PassengerId','Pclass'],axis=1)\n",
    "test_predict = clf.predict(test_df)\n"
   ]
  },
  {
   "cell_type": "code",
   "execution_count": 13,
   "metadata": {
    "collapsed": false
   },
   "outputs": [
    {
     "name": "stdout",
     "output_type": "stream",
     "text": [
      "[0 0 0 0 1 0 1 0 1 0 0 0 1 0 1 1 0 0 1 0 0 0 1 1 1 0 1 0 0 0 0 0 1 1 0 0 1\n",
      " 1 0 0 0 0 0 1 1 0 0 0 1 1 1 0 1 1 0 0 0 0 0 1 0 0 0 1 1 1 1 0 0 1 1 0 1 0\n",
      " 1 0 0 1 0 1 0 0 0 0 0 0 1 1 1 0 1 0 1 0 1 0 1 0 1 0 1 0 0 0 1 0 0 0 0 0 0\n",
      " 1 1 1 1 0 0 1 0 1 1 0 1 0 0 1 0 1 0 0 0 0 1 0 0 0 0 0 1 0 1 1 0 0 0 0 0 0\n",
      " 0 0 1 0 0 1 0 0 1 1 0 1 1 0 1 0 0 1 0 0 1 1 0 0 0 0 0 1 1 0 1 1 0 0 1 0 1\n",
      " 0 1 0 1 0 0 0 0 0 0 0 1 1 0 1 1 0 0 1 0 0 1 0 1 0 0 0 0 1 0 0 1 0 1 0 1 0\n",
      " 1 0 1 1 0 1 0 0 0 1 0 0 0 0 0 0 1 1 1 1 0 0 0 0 1 0 1 1 1 0 1 0 0 0 0 0 1\n",
      " 0 0 0 1 1 0 0 0 0 1 0 0 0 1 1 0 1 0 0 0 0 1 0 1 1 1 0 0 1 0 0 0 1 0 0 0 0\n",
      " 1 0 0 0 0 0 0 0 1 1 0 0 0 0 0 0 0 0 1 1 0 0 0 0 0 0 0 0 1 0 1 0 0 0 1 0 0\n",
      " 1 0 0 0 0 0 0 0 0 0 1 0 1 0 0 0 1 1 0 0 0 1 0 1 0 0 1 0 1 1 0 1 1 0 1 1 0\n",
      " 0 1 0 0 1 1 1 0 0 0 0 0 1 1 0 1 0 0 0 0 1 1 0 0 0 1 0 1 0 0 1 0 1 1 0 0 0\n",
      " 0 1 1 1 1 1 0 1 0 0 0]\n"
     ]
    }
   ],
   "source": [
    "#テストデータから生存者を予測\n",
    "# test_df = test_df.drop(['Sex','PassengerId','Pclass'],axis=1)\n",
    "test_predict = clf.predict(test_df)\n",
    "print(test_predict)\n"
   ]
  }
 ],
 "metadata": {
  "anaconda-cloud": {},
  "kernelspec": {
   "display_name": "Python [default]",
   "language": "python",
   "name": "python3"
  },
  "language_info": {
   "codemirror_mode": {
    "name": "ipython",
    "version": 3
   },
   "file_extension": ".py",
   "mimetype": "text/x-python",
   "name": "python",
   "nbconvert_exporter": "python",
   "pygments_lexer": "ipython3",
   "version": "3.5.2"
  }
 },
 "nbformat": 4,
 "nbformat_minor": 1
}
